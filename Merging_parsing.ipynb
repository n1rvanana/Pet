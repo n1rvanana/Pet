{
 "cells": [
  {
   "cell_type": "code",
   "execution_count": 1,
   "metadata": {},
   "outputs": [],
   "source": [
    "import pandas as pd    \n",
    "import numpy as np\n",
    "import seaborn as sns\n",
    "import matplotlib.pyplot as plt\n",
    "from typing import List\n",
    "import math\n",
    "import re\n",
    "from tqdm.auto import tqdm\n",
    "%matplotlib inline"
   ]
  },
  {
   "cell_type": "code",
   "execution_count": 2,
   "metadata": {},
   "outputs": [],
   "source": [
    "path = r'C:\\Users\\iavoytenok\\Favorites\\Python\\other_other\\Pet_Projects\\Parsing\\dataframes'"
   ]
  },
  {
   "cell_type": "code",
   "execution_count": 3,
   "metadata": {},
   "outputs": [],
   "source": [
    "mtgtrade_df = pd.read_csv(path +'/mtgtrade_parsing.csv')\n",
    "scryfall_df = pd.read_csv(path +'/scryfall_parsing.csv')\n",
    "mtg_sets_df = pd.read_excel(path +'/MTG_sets.xlsx', date_parser = pd.to_datetime)\n",
    "mtg_abilities = pd.read_excel(path +'/MTG_abilities.xlsx').values.tolist()"
   ]
  },
  {
   "cell_type": "code",
   "execution_count": 4,
   "metadata": {},
   "outputs": [],
   "source": [
    "scryfall_df.drop_duplicates(inplace = True)\n",
    "mtgtrade_df.drop_duplicates(inplace = True)\n"
   ]
  },
  {
   "cell_type": "code",
   "execution_count": 5,
   "metadata": {},
   "outputs": [],
   "source": [
    "mtgtrade_df['Name'] = mtgtrade_df[['Language', 'Name1', 'Name2']].apply(lambda x: x['Name1'] if x['Language'] == 'Английский' else x['Name2'], axis = 1)"
   ]
  },
  {
   "cell_type": "code",
   "execution_count": 6,
   "metadata": {},
   "outputs": [],
   "source": [
    "# def isEnglish(s):\n",
    "#     '''\n",
    "#     Проверяем, какой из текстов на английском\n",
    "#     '''\n",
    "#     try:\n",
    "#         s.encode(encoding='utf-8').decode('ascii')\n",
    "#     except UnicodeDecodeError:\n",
    "#         return False\n",
    "#     else:\n",
    "#         return True"
   ]
  },
  {
   "cell_type": "code",
   "execution_count": 7,
   "metadata": {},
   "outputs": [],
   "source": [
    "# mtgtrade_df['English Special'] = mtgtrade_df[['Language', 'Special1', 'Special2']].apply(lambda x: x['Special1'] if isEnglish(x['Language']) else x['Special2'], axis = 1)"
   ]
  },
  {
   "cell_type": "code",
   "execution_count": 8,
   "metadata": {},
   "outputs": [],
   "source": [
    "df = mtgtrade_df.merge(scryfall_df, on = 'Name')"
   ]
  },
  {
   "cell_type": "code",
   "execution_count": 9,
   "metadata": {},
   "outputs": [],
   "source": [
    "df = df.merge(mtg_sets_df,left_on='Set', right_on='Name')"
   ]
  },
  {
   "cell_type": "code",
   "execution_count": 10,
   "metadata": {},
   "outputs": [],
   "source": [
    "df['Feature'].fillna('', inplace = True)\n",
    "df['Feature'] = df['Feature'].str.lower()"
   ]
  },
  {
   "cell_type": "code",
   "execution_count": 11,
   "metadata": {},
   "outputs": [],
   "source": [
    "card_types = ['basic land', 'artifact creature', 'creature', 'instant', 'sorcery', 'enchantment creature', 'enchantment', 'land', \n",
    "             'artifact',  'planeswalker']"
   ]
  },
  {
   "cell_type": "code",
   "execution_count": 12,
   "metadata": {},
   "outputs": [],
   "source": [
    "def corrected_type(main_type: str) -> str:\n",
    "    '''\n",
    "    Преобразует типы карт в укрупненные группы\n",
    "    '''\n",
    "    cor_type = 'other'\n",
    "    for card_type in card_types:\n",
    "        if card_type in main_type.lower():\n",
    "            cor_type = card_type\n",
    "            break\n",
    "    return cor_type"
   ]
  },
  {
   "cell_type": "code",
   "execution_count": 13,
   "metadata": {},
   "outputs": [],
   "source": [
    "df['Main type'] = df['Main type'].map(corrected_type)"
   ]
  },
  {
   "cell_type": "code",
   "execution_count": 14,
   "metadata": {},
   "outputs": [],
   "source": [
    "df = df[df['Price'].isna() == False]"
   ]
  },
  {
   "cell_type": "code",
   "execution_count": 15,
   "metadata": {},
   "outputs": [
    {
     "data": {
      "text/plain": [
       "Language                                               Английский\n",
       "Set                                                      Unstable\n",
       "Name1                                              Steel Squirrel\n",
       "Name2                                                         NaN\n",
       "Foil                                                         Фойл\n",
       "Quality                                                        NM\n",
       "Rarity                                                  Необычная\n",
       "Price                                                325 ₽\\n190 ₽\n",
       "Qty                                                         1 шт.\n",
       "Special1                                                      NaN\n",
       "Special2        Whenever you roll a 5 or higher on a die, Stee...\n",
       "Name_x                                             Steel Squirrel\n",
       "Cost                                                          {2}\n",
       "Type                                 Artifact Creature — Squirrel\n",
       "Feature         whenever you roll a 5 or higher on a die, stee...\n",
       "Stats                                                         1/1\n",
       "Illustrator                                        Carl Critchlow\n",
       "Standard                                                Not Legal\n",
       "Alchemy                                                 Not Legal\n",
       "Pioneer                                                 Not Legal\n",
       "Explorer                                                Not Legal\n",
       "Modern                                                  Not Legal\n",
       "Brawl                                                   Not Legal\n",
       "Legacy                                                  Not Legal\n",
       "Historic                                                Not Legal\n",
       "Vintage                                                 Not Legal\n",
       "Pauper                                                  Not Legal\n",
       "Commander                                               Not Legal\n",
       "Penny                                                   Not Legal\n",
       "Power                                                           1\n",
       "Strength                                                        1\n",
       "Main feature    Whenever you roll a 5 or higher on a die, Stee...\n",
       "Cost_qty                                                        2\n",
       "Legendary                                                       0\n",
       "Main type                                       artifact creature\n",
       "Date                                          2017-12-08 00:00:00\n",
       "Name_y                                                   Unstable\n",
       "Name: 11086, dtype: object"
      ]
     },
     "execution_count": 15,
     "metadata": {},
     "output_type": "execute_result"
    }
   ],
   "source": [
    "df.loc[11086]"
   ]
  },
  {
   "cell_type": "code",
   "execution_count": 16,
   "metadata": {},
   "outputs": [
    {
     "name": "stderr",
     "output_type": "stream",
     "text": [
      "C:\\Users\\iavoytenok\\AppData\\Local\\Temp\\ipykernel_17596\\1665253984.py:4: FutureWarning: The default value of regex will change from True to False in a future version.\n",
      "  df['Qty'] = df['Qty'].str.replace(' шт.','').astype(int)\n"
     ]
    }
   ],
   "source": [
    "df['Price']= df['Price'].apply(lambda x: x if x.find('\\n') == -1 else x.split('\\n')[1])\n",
    "df['Price'] = df['Price'].str.replace(' ₽','').astype(int)\n",
    "df['Qty']= df['Qty'].apply(lambda x: x if x.find('\\n') == -1 else x.split('\\n')[1])\n",
    "df['Qty'] = df['Qty'].str.replace(' шт.','').astype(int)"
   ]
  },
  {
   "cell_type": "code",
   "execution_count": 17,
   "metadata": {},
   "outputs": [],
   "source": [
    "df['Month'] = df['Date'].dt.month\n",
    "df['Year'] = df['Date'].dt.year"
   ]
  },
  {
   "cell_type": "code",
   "execution_count": 18,
   "metadata": {},
   "outputs": [
    {
     "data": {
      "text/plain": [
       "<AxesSubplot:xlabel='Month_sin', ylabel='Month_cos'>"
      ]
     },
     "execution_count": 18,
     "metadata": {},
     "output_type": "execute_result"
    },
    {
     "data": {
      "image/png": "[encoded data removed]",
      "text/plain": [
       "<Figure size 432x288 with 1 Axes>"
      ]
     },
     "metadata": {
      "needs_background": "light"
     },
     "output_type": "display_data"
    }
   ],
   "source": [
    "df[\"Month_cos\"] = df[\"Month\"].apply(lambda x: np.cos(x / 12 * 2 * np.pi))\n",
    "df[\"Month_sin\"] = df[\"Month\"].apply(lambda x: np.sin(x / 12 * 2 * np.pi))\n",
    "sns.scatterplot(x = df[\"Month_sin\"], y = df[\"Month_cos\"])"
   ]
  },
  {
   "cell_type": "code",
   "execution_count": 19,
   "metadata": {},
   "outputs": [],
   "source": [
    "df['Feature length'] = df['Feature'].apply(lambda x: len(x) if type(x) != float else 0)"
   ]
  },
  {
   "cell_type": "code",
   "execution_count": 20,
   "metadata": {},
   "outputs": [],
   "source": [
    "cols_to_drop = [ 'Name1', 'Name2', 'Special1', 'Special2', 'Name_y']\n",
    "df.drop(cols_to_drop, inplace = True, axis = 1)"
   ]
  },
  {
   "cell_type": "code",
   "execution_count": 21,
   "metadata": {},
   "outputs": [],
   "source": [
    "def get_color_cost(cost:str) -> str:\n",
    "    try:\n",
    "        cost = cost.replace('{', '').replace('}', '')\n",
    "        color = ''.join(re.findall(r'\\D+', cost))\n",
    "        col_len = len(color)\n",
    "        if col_len == 0:\n",
    "            color = 'Colorless'\n",
    "        else:\n",
    "            color = ''.join([''.join(sorted(set(x))) for x in color])\n",
    "        noncolor = sum([int(x) for x in re.findall(r'\\d+', cost)])\n",
    "        total_cost = noncolor + len(color)\n",
    "    except Exception:\n",
    "        color = 'Other'\n",
    "        total_cost = 0\n",
    "    return color, total_cost"
   ]
  },
  {
   "cell_type": "code",
   "execution_count": 22,
   "metadata": {},
   "outputs": [],
   "source": [
    "def get_description_cost(feature:str) -> str:\n",
    "    try:\n",
    "        costs2 = feature.split('{')\n",
    "        costs = [x.split('}')[0]  for x  in costs2 if len(x)> 0]\n",
    "        feature_paid_abilities = len(costs)\n",
    "        total_cost = 0\n",
    "        color = []\n",
    "        for cost in costs:\n",
    "            if cost.isnumeric():\n",
    "                total_cost += int(cost)\n",
    "            else: \n",
    "                for c in cost:\n",
    "                    if not c.isnumeric():\n",
    "                        total_cost += 1\n",
    "                        color.append(c)\n",
    "                    else:\n",
    "                        total_cost += int(c)\n",
    "        color = ''.join(sorted(set(color)))\n",
    "    except Exception:\n",
    "        color = ''\n",
    "        total_cost = 0\n",
    "    return color, total_cost"
   ]
  },
  {
   "cell_type": "code",
   "execution_count": 23,
   "metadata": {},
   "outputs": [
    {
     "data": {
      "text/plain": [
       "('BC', 16)"
      ]
     },
     "execution_count": 23,
     "metadata": {},
     "output_type": "execute_result"
    }
   ],
   "source": [
    "get_description_cost('{B}: greater morphling gains your choice of banding, {C} bushido 1, {1B}double strike, fear, flying, first strike, haste, landwalk of your choice, protection from a color of your choice, provoke, rampage 1, shadow, or trample until end of turn.\\n{2}: greater morphling becomes the colors of your choice until end of turn.\\n{2}: greater morphling becomes the creature type of your choice until end of turn.\\n{2}: greater morphling’s expansion symbol becomes the symbol of your choice until end of turn.\\n{2}: greater morphling’s art becomes by the artist of your choice until end of turn.\\n{2}: greater morphling gets +2/-2 or -2/+2 until end of turn.\\n{2}: untap greater morphling.')"
   ]
  },
  {
   "cell_type": "code",
   "execution_count": 24,
   "metadata": {},
   "outputs": [],
   "source": [
    "df['Colors_features'], df['Features cost'] = zip(*df['Feature'].map(get_description_cost))"
   ]
  },
  {
   "cell_type": "code",
   "execution_count": 25,
   "metadata": {},
   "outputs": [],
   "source": [
    "df['Colors_dist'], df['Color cost'] = zip(*df['Cost'].map(get_color_cost))"
   ]
  },
  {
   "cell_type": "code",
   "execution_count": 26,
   "metadata": {},
   "outputs": [],
   "source": [
    "df[['Power', 'Strength']] = df[['Power', 'Strength']].fillna(-1)"
   ]
  },
  {
   "cell_type": "code",
   "execution_count": 27,
   "metadata": {},
   "outputs": [],
   "source": [
    "# df2 = df[df['Feature'].str.contains(\"haste\")].iloc[:1000].copy()"
   ]
  },
  {
   "cell_type": "code",
   "execution_count": 28,
   "metadata": {},
   "outputs": [],
   "source": [
    "def create_ability_features(abilities:List[List[str]]) -> pd.DataFrame:\n",
    "    features = df['Feature'].values.tolist()\n",
    "    k = []\n",
    "    for ability in tqdm(abilities):\n",
    "        # k = features.apply(lambda x: 1 if type(x) != float and ability in x else 0)\n",
    "        k.append([1 if (type(x) != float and ability[0].lower() in x) else 0 for x in features])\n",
    "    colnames = [x[1]+'_'+ x[0] for x in abilities]\n",
    "    k = map(list, zip(*k))\n",
    "    feat_df = pd.DataFrame(k, columns = colnames)\n",
    "    return feat_df"
   ]
  },
  {
   "cell_type": "code",
   "execution_count": 29,
   "metadata": {},
   "outputs": [
    {
     "data": {
      "application/vnd.jupyter.widget-view+json": {
       "model_id": "f08bee0b302b40b7bd89101aea011520",
       "version_major": 2,
       "version_minor": 0
      },
      "text/plain": [
       "  0%|          | 0/243 [00:00<?, ?it/s]"
      ]
     },
     "metadata": {},
     "output_type": "display_data"
    }
   ],
   "source": [
    "df = pd.concat([df, create_ability_features(mtg_abilities)], axis = 1)"
   ]
  },
  {
   "cell_type": "code",
   "execution_count": 30,
   "metadata": {},
   "outputs": [],
   "source": [
    "df['Foil'] = df['Foil'].apply(lambda x: 1 if x == 'Фойл' else 0)"
   ]
  },
  {
   "cell_type": "code",
   "execution_count": 31,
   "metadata": {},
   "outputs": [],
   "source": [
    "df = df.applymap(lambda x: 'Other' if x == '[]' else x)"
   ]
  },
  {
   "cell_type": "code",
   "execution_count": 32,
   "metadata": {},
   "outputs": [],
   "source": [
    "numerics = ['int16', 'int32', 'int64', 'float16', 'float32', 'float64']\n",
    "ability_cols = df.select_dtypes(include=numerics).columns.tolist()[11:]"
   ]
  },
  {
   "cell_type": "code",
   "execution_count": 33,
   "metadata": {},
   "outputs": [],
   "source": [
    "df['Total abilities qty'] = df[ability_cols].sum(axis = 1)"
   ]
  },
  {
   "cell_type": "code",
   "execution_count": 34,
   "metadata": {},
   "outputs": [
    {
     "data": {
      "text/plain": [
       "'{2}: greater morphling gains your choice of banding, bushido 1, double strike, fear, flying, first strike, haste, landwalk of your choice, protection from a color of your choice, provoke, rampage 1, shadow, or trample until end of turn.\\n{2}: greater morphling becomes the colors of your choice until end of turn.\\n{2}: greater morphling becomes the creature type of your choice until end of turn.\\n{2}: greater morphling’s expansion symbol becomes the symbol of your choice until end of turn.\\n{2}: greater morphling’s art becomes by the artist of your choice until end of turn.\\n{2}: greater morphling gets +2/-2 or -2/+2 until end of turn.\\n{2}: untap greater morphling.'"
      ]
     },
     "execution_count": 34,
     "metadata": {},
     "output_type": "execute_result"
    }
   ],
   "source": [
    "df.loc[9609]['Feature']"
   ]
  },
  {
   "cell_type": "code",
   "execution_count": 35,
   "metadata": {},
   "outputs": [
    {
     "name": "stdout",
     "output_type": "stream",
     "text": [
      "(580573, 285)\n"
     ]
    },
    {
     "data": {
      "application/vnd.jupyter.widget-view+json": {
       "model_id": "f1726f388471418ca13a89cef4227f00",
       "version_major": 2,
       "version_minor": 0
      },
      "text/plain": [
       "  0%|          | 0/244 [00:00<?, ?it/s]"
      ]
     },
     "metadata": {},
     "output_type": "display_data"
    },
    {
     "name": "stdout",
     "output_type": "stream",
     "text": [
      "(580573, 90)\n"
     ]
    }
   ],
   "source": [
    "print(df.shape)\n",
    "cols = []\n",
    "for col in tqdm(ability_cols):\n",
    "    if df[col].sum() < 500:\n",
    "        cols.append(col)\n",
    "df.drop(cols , axis = 1, inplace = True)\n",
    "print(df.shape)"
   ]
  },
  {
   "cell_type": "code",
   "execution_count": 36,
   "metadata": {},
   "outputs": [
    {
     "data": {
      "text/plain": [
       "<seaborn.axisgrid.FacetGrid at 0x2693b1ab5e0>"
      ]
     },
     "execution_count": 36,
     "metadata": {},
     "output_type": "execute_result"
    },
    {
     "data": {
      "image/png": "[encoded data removed]",
      "text/plain": [
       "<Figure size 360x360 with 1 Axes>"
      ]
     },
     "metadata": {
      "needs_background": "light"
     },
     "output_type": "display_data"
    }
   ],
   "source": [
    "sns.displot(cols)"
   ]
  },
  {
   "cell_type": "code",
   "execution_count": null,
   "metadata": {},
   "outputs": [],
   "source": [
    "df.to_csv(path + '/merged_df_new.csv', index = False)"
   ]
  },
  {
   "cell_type": "code",
   "execution_count": 36,
   "metadata": {},
   "outputs": [
    {
     "name": "stderr",
     "output_type": "stream",
     "text": [
      "\n",
      "KeyboardInterrupt\n",
      "\n"
     ]
    }
   ],
   "source": [
    "df[:1].to_excel(path + '/merged_df_new.xlsx', index = False)"
   ]
  },
  {
   "cell_type": "code",
   "execution_count": null,
   "metadata": {},
   "outputs": [],
   "source": []
  }
 ],
 "metadata": {
  "kernelspec": {
   "display_name": "Python 3 (ipykernel)",
   "language": "python",
   "name": "python3"
  },
  "language_info": {
   "codemirror_mode": {
    "name": "ipython",
    "version": 3
   },
   "file_extension": ".py",
   "mimetype": "text/x-python",
   "name": "python",
   "nbconvert_exporter": "python",
   "pygments_lexer": "ipython3",
   "version": "3.9.12"
  }
 },
 "nbformat": 4,
 "nbformat_minor": 4
}
