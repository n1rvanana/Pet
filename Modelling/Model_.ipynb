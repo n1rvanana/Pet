{
 "cells": [
  {
   "cell_type": "code",
   "execution_count": 3,
   "metadata": {},
   "outputs": [],
   "source": [
    "import numpy as np   \n",
    "import pandas as pd    \n",
    "import matplotlib\n",
    "import matplotlib.pyplot as plt\n",
    "import matplotlib.cm as cm\n",
    "import seaborn as sns\n",
    "from scipy import stats\n",
    "%matplotlib inline"
   ]
  },
  {
   "cell_type": "code",
   "execution_count": 4,
   "metadata": {},
   "outputs": [],
   "source": [
    "path = r'C:\\Users\\Ilya\\Documents\\GitHub\\Pet\\Parsing\\dataframes'"
   ]
  },
  {
   "cell_type": "code",
   "execution_count": 5,
   "metadata": {},
   "outputs": [],
   "source": [
    "df = pd.read_csv(path +'\\merged_df.csv')"
   ]
  },
  {
   "cell_type": "code",
   "execution_count": 6,
   "metadata": {},
   "outputs": [
    {
     "name": "stdout",
     "output_type": "stream",
     "text": [
      "<class 'pandas.core.frame.DataFrame'>\n",
      "RangeIndex: 580573 entries, 0 to 580572\n",
      "Data columns (total 39 columns):\n",
      " #   Column          Non-Null Count   Dtype  \n",
      "---  ------          --------------   -----  \n",
      " 0   Language        576810 non-null  object \n",
      " 1   Set             576810 non-null  object \n",
      " 2   Foil            169185 non-null  object \n",
      " 3   Quality         576810 non-null  object \n",
      " 4   Rarity          576810 non-null  object \n",
      " 5   Price           576810 non-null  float64\n",
      " 6   Qty             576810 non-null  float64\n",
      " 7   Name_x          576810 non-null  object \n",
      " 8   Cost            176465 non-null  object \n",
      " 9   Type            576810 non-null  object \n",
      " 10  Feature         557680 non-null  object \n",
      " 11  Stats           85440 non-null   object \n",
      " 12  Illustrator     569918 non-null  object \n",
      " 13  Standard        576810 non-null  object \n",
      " 14  Alchemy         576810 non-null  object \n",
      " 15  Pioneer         576810 non-null  object \n",
      " 16  Explorer        576810 non-null  object \n",
      " 17  Modern          576810 non-null  object \n",
      " 18  Brawl           576810 non-null  object \n",
      " 19  Legacy          576810 non-null  object \n",
      " 20  Historic        576810 non-null  object \n",
      " 21  Vintage         576810 non-null  object \n",
      " 22  Pauper          576810 non-null  object \n",
      " 23  Commander       576810 non-null  object \n",
      " 24  Penny           576810 non-null  object \n",
      " 25  Power           580573 non-null  object \n",
      " 26  Strength        580573 non-null  object \n",
      " 27  Main feature    89235 non-null   object \n",
      " 28  Cost_qty        576810 non-null  float64\n",
      " 29  Legendary       576810 non-null  float64\n",
      " 30  Main type       576810 non-null  object \n",
      " 31  Date            576810 non-null  object \n",
      " 32  Month           576810 non-null  float64\n",
      " 33  Year            576810 non-null  float64\n",
      " 34  Month_cos       576810 non-null  float64\n",
      " 35  Month_sin       576810 non-null  float64\n",
      " 36  Feature length  576810 non-null  float64\n",
      " 37  Colors_dist     580573 non-null  object \n",
      " 38  Color cost      580573 non-null  int64  \n",
      "dtypes: float64(9), int64(1), object(29)\n",
      "memory usage: 172.7+ MB\n"
     ]
    }
   ],
   "source": [
    "df.info()"
   ]
  },
  {
   "cell_type": "code",
   "execution_count": 7,
   "metadata": {},
   "outputs": [
    {
     "data": {
      "text/html": [
       "<div>\n",
       "<style scoped>\n",
       "    .dataframe tbody tr th:only-of-type {\n",
       "        vertical-align: middle;\n",
       "    }\n",
       "\n",
       "    .dataframe tbody tr th {\n",
       "        vertical-align: top;\n",
       "    }\n",
       "\n",
       "    .dataframe thead th {\n",
       "        text-align: right;\n",
       "    }\n",
       "</style>\n",
       "<table border=\"1\" class=\"dataframe\">\n",
       "  <thead>\n",
       "    <tr style=\"text-align: right;\">\n",
       "      <th></th>\n",
       "      <th>Price</th>\n",
       "      <th>Qty</th>\n",
       "      <th>Cost_qty</th>\n",
       "      <th>Legendary</th>\n",
       "      <th>Month</th>\n",
       "      <th>Year</th>\n",
       "      <th>Month_cos</th>\n",
       "      <th>Month_sin</th>\n",
       "      <th>Feature length</th>\n",
       "      <th>Color cost</th>\n",
       "    </tr>\n",
       "  </thead>\n",
       "  <tbody>\n",
       "    <tr>\n",
       "      <th>count</th>\n",
       "      <td>5.768100e+05</td>\n",
       "      <td>576810.000000</td>\n",
       "      <td>576810.000000</td>\n",
       "      <td>576810.000000</td>\n",
       "      <td>576810.000000</td>\n",
       "      <td>576810.000000</td>\n",
       "      <td>5.768100e+05</td>\n",
       "      <td>576810.000000</td>\n",
       "      <td>576810.000000</td>\n",
       "      <td>5.805730e+05</td>\n",
       "    </tr>\n",
       "    <tr>\n",
       "      <th>mean</th>\n",
       "      <td>2.440285e+02</td>\n",
       "      <td>1.233975</td>\n",
       "      <td>0.971027</td>\n",
       "      <td>0.017945</td>\n",
       "      <td>7.268341</td>\n",
       "      <td>2011.286417</td>\n",
       "      <td>-8.334022e-02</td>\n",
       "      <td>-0.273227</td>\n",
       "      <td>49.658695</td>\n",
       "      <td>4.687448e+00</td>\n",
       "    </tr>\n",
       "    <tr>\n",
       "      <th>std</th>\n",
       "      <td>6.279886e+03</td>\n",
       "      <td>3.410392</td>\n",
       "      <td>1.724640</td>\n",
       "      <td>0.132753</td>\n",
       "      <td>2.882579</td>\n",
       "      <td>7.632031</td>\n",
       "      <td>6.529163e-01</td>\n",
       "      <td>0.701501</td>\n",
       "      <td>67.845782</td>\n",
       "      <td>1.856051e+03</td>\n",
       "    </tr>\n",
       "    <tr>\n",
       "      <th>min</th>\n",
       "      <td>1.000000e+00</td>\n",
       "      <td>0.000000</td>\n",
       "      <td>0.000000</td>\n",
       "      <td>0.000000</td>\n",
       "      <td>1.000000</td>\n",
       "      <td>1993.000000</td>\n",
       "      <td>-1.000000e+00</td>\n",
       "      <td>-1.000000</td>\n",
       "      <td>0.000000</td>\n",
       "      <td>0.000000e+00</td>\n",
       "    </tr>\n",
       "    <tr>\n",
       "      <th>25%</th>\n",
       "      <td>1.400000e+01</td>\n",
       "      <td>0.000000</td>\n",
       "      <td>0.000000</td>\n",
       "      <td>0.000000</td>\n",
       "      <td>5.000000</td>\n",
       "      <td>2005.000000</td>\n",
       "      <td>-8.660254e-01</td>\n",
       "      <td>-0.866025</td>\n",
       "      <td>15.000000</td>\n",
       "      <td>0.000000e+00</td>\n",
       "    </tr>\n",
       "    <tr>\n",
       "      <th>50%</th>\n",
       "      <td>2.700000e+01</td>\n",
       "      <td>0.000000</td>\n",
       "      <td>0.000000</td>\n",
       "      <td>0.000000</td>\n",
       "      <td>7.000000</td>\n",
       "      <td>2013.000000</td>\n",
       "      <td>-1.836970e-16</td>\n",
       "      <td>-0.500000</td>\n",
       "      <td>15.000000</td>\n",
       "      <td>0.000000e+00</td>\n",
       "    </tr>\n",
       "    <tr>\n",
       "      <th>75%</th>\n",
       "      <td>7.000000e+01</td>\n",
       "      <td>1.000000</td>\n",
       "      <td>2.000000</td>\n",
       "      <td>0.000000</td>\n",
       "      <td>10.000000</td>\n",
       "      <td>2018.000000</td>\n",
       "      <td>5.000000e-01</td>\n",
       "      <td>0.500000</td>\n",
       "      <td>60.000000</td>\n",
       "      <td>2.000000e+00</td>\n",
       "    </tr>\n",
       "    <tr>\n",
       "      <th>max</th>\n",
       "      <td>1.692200e+06</td>\n",
       "      <td>72.000000</td>\n",
       "      <td>15.000000</td>\n",
       "      <td>1.000000</td>\n",
       "      <td>12.000000</td>\n",
       "      <td>2022.000000</td>\n",
       "      <td>1.000000e+00</td>\n",
       "      <td>1.000000</td>\n",
       "      <td>769.000000</td>\n",
       "      <td>1.000009e+06</td>\n",
       "    </tr>\n",
       "  </tbody>\n",
       "</table>\n",
       "</div>"
      ],
      "text/plain": [
       "              Price            Qty       Cost_qty      Legendary  \\\n",
       "count  5.768100e+05  576810.000000  576810.000000  576810.000000   \n",
       "mean   2.440285e+02       1.233975       0.971027       0.017945   \n",
       "std    6.279886e+03       3.410392       1.724640       0.132753   \n",
       "min    1.000000e+00       0.000000       0.000000       0.000000   \n",
       "25%    1.400000e+01       0.000000       0.000000       0.000000   \n",
       "50%    2.700000e+01       0.000000       0.000000       0.000000   \n",
       "75%    7.000000e+01       1.000000       2.000000       0.000000   \n",
       "max    1.692200e+06      72.000000      15.000000       1.000000   \n",
       "\n",
       "               Month           Year     Month_cos      Month_sin  \\\n",
       "count  576810.000000  576810.000000  5.768100e+05  576810.000000   \n",
       "mean        7.268341    2011.286417 -8.334022e-02      -0.273227   \n",
       "std         2.882579       7.632031  6.529163e-01       0.701501   \n",
       "min         1.000000    1993.000000 -1.000000e+00      -1.000000   \n",
       "25%         5.000000    2005.000000 -8.660254e-01      -0.866025   \n",
       "50%         7.000000    2013.000000 -1.836970e-16      -0.500000   \n",
       "75%        10.000000    2018.000000  5.000000e-01       0.500000   \n",
       "max        12.000000    2022.000000  1.000000e+00       1.000000   \n",
       "\n",
       "       Feature length    Color cost  \n",
       "count   576810.000000  5.805730e+05  \n",
       "mean        49.658695  4.687448e+00  \n",
       "std         67.845782  1.856051e+03  \n",
       "min          0.000000  0.000000e+00  \n",
       "25%         15.000000  0.000000e+00  \n",
       "50%         15.000000  0.000000e+00  \n",
       "75%         60.000000  2.000000e+00  \n",
       "max        769.000000  1.000009e+06  "
      ]
     },
     "execution_count": 7,
     "metadata": {},
     "output_type": "execute_result"
    }
   ],
   "source": [
    "df.describe()"
   ]
  },
  {
   "cell_type": "code",
   "execution_count": 8,
   "metadata": {},
   "outputs": [],
   "source": [
    "df = df.applymap(lambda x: 'Other' if x == '[]' else x)"
   ]
  },
  {
   "cell_type": "code",
   "execution_count": 9,
   "metadata": {},
   "outputs": [
    {
     "data": {
      "text/plain": [
       "Legal        512687\n",
       "Other         62865\n",
       "Not Legal       828\n",
       "Banned          430\n",
       "Name: Commander, dtype: int64"
      ]
     },
     "execution_count": 9,
     "metadata": {},
     "output_type": "execute_result"
    }
   ],
   "source": [
    "df['Commander'].value_counts()"
   ]
  },
  {
   "cell_type": "code",
   "execution_count": 16,
   "metadata": {},
   "outputs": [
    {
     "data": {
      "text/plain": [
       "<AxesSubplot:xlabel='Price', ylabel='Count'>"
      ]
     },
     "execution_count": 16,
     "metadata": {},
     "output_type": "execute_result"
    },
    {
     "data": {
      "image/png": "[encoded data removed]",
      "text/plain": [
       "<Figure size 432x288 with 1 Axes>"
      ]
     },
     "metadata": {
      "needs_background": "light"
     },
     "output_type": "display_data"
    }
   ],
   "source": [
    "sns.histplot(df, x = np.log1p(df['Price']), kde = True, log_scale = True, hue = 'Commander')"
   ]
  },
  {
   "cell_type": "code",
   "execution_count": 20,
   "metadata": {},
   "outputs": [
    {
     "data": {
      "text/plain": [
       "nan"
      ]
     },
     "execution_count": 20,
     "metadata": {},
     "output_type": "execute_result"
    }
   ],
   "source": [
    "stats.skew(df['Price'])"
   ]
  },
  {
   "cell_type": "code",
   "execution_count": 17,
   "metadata": {},
   "outputs": [
    {
     "ename": "SyntaxError",
     "evalue": "invalid syntax (<ipython-input-17-202dbd9047cd>, line 2)",
     "output_type": "error",
     "traceback": [
      "\u001b[1;36m  File \u001b[1;32m\"<ipython-input-17-202dbd9047cd>\"\u001b[1;36m, line \u001b[1;32m2\u001b[0m\n\u001b[1;33m    print(f'Skewness: {stats.skew(df['Price'])} \\nKurtosis: {stats.kurtosis(df['Price'])}')\u001b[0m\n\u001b[1;37m                                      ^\u001b[0m\n\u001b[1;31mSyntaxError\u001b[0m\u001b[1;31m:\u001b[0m invalid syntax\n"
     ]
    }
   ],
   "source": [
    "sns.histplot(data = df, x = 'Price', kde = 'True', hue = 'Commander')\n",
    "print(f'Skewness: {stats.skew(df['Price'])} \\nKurtosis: {stats.kurtosis(df['Price'])}')"
   ]
  },
  {
   "cell_type": "code",
   "execution_count": 12,
   "metadata": {},
   "outputs": [
    {
     "data": {
      "text/plain": [
       "<AxesSubplot:>"
      ]
     },
     "execution_count": 12,
     "metadata": {},
     "output_type": "execute_result"
    },
    {
     "data": {
      "image/png": "[encoded data removed]",
      "text/plain": [
       "<Figure size 864x576 with 2 Axes>"
      ]
     },
     "metadata": {
      "needs_background": "light"
     },
     "output_type": "display_data"
    }
   ],
   "source": [
    "plt.subplots(figsize=(12,8))\n",
    "sns.heatmap(df.corr(), cmap = 'magma', square=True)"
   ]
  },
  {
   "cell_type": "code",
   "execution_count": 13,
   "metadata": {},
   "outputs": [
    {
     "data": {
      "text/plain": [
       "<AxesSubplot:xlabel='Price', ylabel='Cost_qty'>"
      ]
     },
     "execution_count": 13,
     "metadata": {},
     "output_type": "execute_result"
    },
    {
     "data": {
      "image/png": "[encoded data removed]",
      "text/plain": [
       "<Figure size 432x288 with 1 Axes>"
      ]
     },
     "metadata": {
      "needs_background": "light"
     },
     "output_type": "display_data"
    }
   ],
   "source": [
    "df.plot.scatter('Price', 'Cost_qty', alpha = 0.3)"
   ]
  },
  {
   "cell_type": "code",
   "execution_count": null,
   "metadata": {},
   "outputs": [],
   "source": [
    "f, ax = plt.subplots(figsize=(8, 7))\n",
    "ax.set_xscale(\"log\")\n",
    "ax = sns.boxplot(data=features[num_cols] , orient=\"h\", palette=\"Set1\")"
   ]
  }
 ],
 "metadata": {
  "kernelspec": {
   "display_name": "Python 3",
   "language": "python",
   "name": "python3"
  },
  "language_info": {
   "codemirror_mode": {
    "name": "ipython",
    "version": 3
   },
   "file_extension": ".py",
   "mimetype": "text/x-python",
   "name": "python",
   "nbconvert_exporter": "python",
   "pygments_lexer": "ipython3",
   "version": "3.8.5"
  }
 },
 "nbformat": 4,
 "nbformat_minor": 4
}
