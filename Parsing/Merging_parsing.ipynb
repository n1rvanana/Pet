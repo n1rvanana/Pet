{
 "cells": [
  {
   "cell_type": "code",
   "execution_count": 1,
   "metadata": {},
   "outputs": [],
   "source": [
    "import pandas as pd    \n",
    "import numpy as np\n",
    "import seaborn as sns\n",
    "import matplotlib.pyplot as plt\n",
    "from typing import List\n",
    "import math\n",
    "import re\n",
    "import os\n",
    "from tqdm.auto import tqdm\n",
    "%matplotlib inline"
   ]
  },
  {
   "cell_type": "code",
   "execution_count": 2,
   "metadata": {},
   "outputs": [],
   "source": [
    "path = path = os.path.abspath(os.path.join(os.path.dirname('EDA.ipynb'), '..', 'Parsing\\\\dataframes'))"
   ]
  },
  {
   "cell_type": "markdown",
   "metadata": {},
   "source": [
    "Грузим все источники данных."
   ]
  },
  {
   "cell_type": "code",
   "execution_count": 3,
   "metadata": {},
   "outputs": [],
   "source": [
    "# Парсинг\n",
    "mtgtrade_df = pd.read_csv(path +'/mtgtrade_parsing.csv')\n",
    "scryfall_df = pd.read_csv(path +'/scryfall_parsing.csv')\n",
    "# Справочники\n",
    "mtg_sets_df = pd.read_excel(path +'/MTG_sets.xlsx', date_parser = pd.to_datetime)\n",
    "mtg_abilities = pd.read_excel(path +'/MTG_abilities.xlsx').values.tolist()"
   ]
  },
  {
   "cell_type": "code",
   "execution_count": 4,
   "metadata": {},
   "outputs": [],
   "source": [
    "scryfall_df.drop_duplicates(inplace = True)\n",
    "mtgtrade_df.drop_duplicates(inplace = True)"
   ]
  },
  {
   "cell_type": "code",
   "execution_count": 5,
   "metadata": {},
   "outputs": [],
   "source": [
    "mtgtrade_df['Name'] = mtgtrade_df[['Language', 'Name1', 'Name2']].apply(lambda x: x['Name1'] if x['Language'] == 'Английский' else x['Name2'], axis = 1)"
   ]
  },
  {
   "cell_type": "markdown",
   "metadata": {},
   "source": [
    "Объединение в 1 таблицу"
   ]
  },
  {
   "cell_type": "code",
   "execution_count": 6,
   "metadata": {},
   "outputs": [],
   "source": [
    "def create_ability_features(abilities:List[List[str]]) -> pd.DataFrame:\n",
    "    '''\n",
    "    Получение признаков о наличии механик\n",
    "    '''\n",
    "    features = df['Feature'].values.tolist()\n",
    "    k = []\n",
    "    for ability in tqdm(abilities):\n",
    "        # k = features.apply(lambda x: 1 if type(x) != float and ability in x else 0)\n",
    "        k.append([1 if (type(x) != float and ability[0].lower() in x) else 0 for x in features])\n",
    "    colnames = [x[1]+'_'+ x[0] for x in abilities]\n",
    "    k = map(list, zip(*k))\n",
    "    feat_df = pd.DataFrame(k, columns = colnames)\n",
    "    return feat_df"
   ]
  },
  {
   "cell_type": "code",
   "execution_count": 7,
   "metadata": {},
   "outputs": [
    {
     "data": {
      "application/vnd.jupyter.widget-view+json": {
       "model_id": "99e7bae643dd4e85b5cc26aa95345072",
       "version_major": 2,
       "version_minor": 0
      },
      "text/plain": [
       "HBox(children=(HTML(value=''), FloatProgress(value=0.0, max=243.0), HTML(value='')))"
      ]
     },
     "metadata": {},
     "output_type": "display_data"
    },
    {
     "name": "stdout",
     "output_type": "stream",
     "text": [
      "\n"
     ]
    }
   ],
   "source": [
    "df = mtgtrade_df.merge(scryfall_df, on = 'Name')\n",
    "df = df.merge(mtg_sets_df,left_on='Set', right_on='Name')\n",
    "df = pd.concat([df, create_ability_features(mtg_abilities)], axis = 1)"
   ]
  },
  {
   "cell_type": "markdown",
   "metadata": {},
   "source": [
    "Первичное создание признаков"
   ]
  },
  {
   "cell_type": "code",
   "execution_count": 8,
   "metadata": {},
   "outputs": [],
   "source": [
    "# Базовые преобразования\n",
    "df = df.applymap(lambda x: 'Other' if x == '[]' else x)\n",
    "df['Feature'].fillna('', inplace = True)\n",
    "df['Feature'] = df['Feature'].str.lower()"
   ]
  },
  {
   "cell_type": "code",
   "execution_count": 9,
   "metadata": {},
   "outputs": [],
   "source": [
    "# Длина описания как признак\n",
    "df['Feature length'] = df['Feature'].apply(lambda x: len(x) if type(x) != float else 0)"
   ]
  },
  {
   "cell_type": "code",
   "execution_count": 10,
   "metadata": {},
   "outputs": [],
   "source": [
    "# Вытаскиваем главный тип карты\n",
    "card_types = ['basic land', 'artifact creature', 'creature', 'instant', 'sorcery', 'enchantment creature', 'enchantment', 'land', \n",
    "             'artifact',  'planeswalker']\n",
    "def corrected_type(main_type: str) -> str:\n",
    "    '''\n",
    "    Преобразует типы карт в укрупненные группы\n",
    "    '''\n",
    "    cor_type = 'other'\n",
    "    for card_type in card_types:\n",
    "        if card_type in main_type.lower():\n",
    "            cor_type = card_type\n",
    "            break\n",
    "    return cor_type"
   ]
  },
  {
   "cell_type": "code",
   "execution_count": 11,
   "metadata": {},
   "outputs": [],
   "source": [
    "df['Main type'] = df['Main type'].map(corrected_type)"
   ]
  },
  {
   "cell_type": "code",
   "execution_count": 12,
   "metadata": {},
   "outputs": [],
   "source": [
    "# Обработка переменных\n",
    "str_to_int = ['Price', 'Qty', 'Power', 'Strength']\n",
    "df = df[df['Price'].isna() == False]\n",
    "df['Price']= df['Price'].apply(lambda x: x if x.find('\\n') == -1 else x.split('\\n')[1])\n",
    "df['Price'] = df['Price'].str.replace(' ₽','').astype(int)\n",
    "df['Qty']= df['Qty'].apply(lambda x: x if x.find('\\n') == -1 else x.split('\\n')[1])\n",
    "df['Qty'] = df['Qty'].str.replace(' шт.','').astype(int)\n",
    "df[['Power', 'Strength']] = df[['Power', 'Strength']].fillna(-1)"
   ]
  },
  {
   "cell_type": "code",
   "execution_count": 13,
   "metadata": {},
   "outputs": [],
   "source": [
    "# Создание фич на основе дат\n",
    "df['Month'] = df['Date'].dt.month\n",
    "df['Year'] = df['Date'].dt.year\n",
    "df[\"Month_cos\"] = df[\"Month\"].apply(lambda x: np.cos(x / 12 * 2 * np.pi))"
   ]
  },
  {
   "cell_type": "markdown",
   "metadata": {},
   "source": [
    "Создание признаков на основе цен карт и их свойств в описании"
   ]
  },
  {
   "cell_type": "code",
   "execution_count": 14,
   "metadata": {},
   "outputs": [],
   "source": [
    "def get_color_cost(cost:str) -> str:\n",
    "    '''\n",
    "    Получение цены и цветовой принадлежности карты\n",
    "    '''\n",
    "    try:\n",
    "        cost = cost.replace('{', '').replace('}', '')\n",
    "        color = ''.join(re.findall(r'\\D+', cost))\n",
    "        col_len = len(color)\n",
    "        if col_len == 0:\n",
    "            color = 'Colorless'\n",
    "        else:\n",
    "            color = ''.join([''.join(sorted(set(x))) for x in color])\n",
    "        noncolor = sum([int(x) for x in re.findall(r'\\d+', cost)])\n",
    "        total_cost = noncolor + len(color)\n",
    "    except Exception:\n",
    "        color = 'Other'\n",
    "        total_cost = 0\n",
    "    return color, total_cost"
   ]
  },
  {
   "cell_type": "code",
   "execution_count": 15,
   "metadata": {},
   "outputs": [],
   "source": [
    "def get_description_cost(feature:str) -> str:\n",
    "    '''\n",
    "    Получение цены и цветовой принадлежности описания карты\n",
    "    '''\n",
    "    color = ''\n",
    "    total_cost = 0\n",
    "    costs2 = feature.split('{')[1:]\n",
    "    # print(costs2)\n",
    "    try:\n",
    "        costs = [x.split('}')[0]  for x  in costs2 if len(x)> 0] \n",
    "        feature_paid_abilities = len(costs)\n",
    "        total_cost = 0\n",
    "        color = []\n",
    "        for cost in costs:\n",
    "            if cost.isnumeric():\n",
    "                total_cost += int(cost)\n",
    "            else: \n",
    "                for c in cost:\n",
    "                    if not c.isnumeric():\n",
    "                        total_cost += 1\n",
    "                        color.append(c)\n",
    "                    else:\n",
    "                        total_cost += int(c)\n",
    "        color = ''.join(sorted(set(color)))\n",
    "    except Exception:\n",
    "        pass\n",
    "    return color, total_cost"
   ]
  },
  {
   "cell_type": "code",
   "execution_count": 16,
   "metadata": {},
   "outputs": [],
   "source": [
    "numerics = ['int16', 'int32', 'int64', 'float16', 'float32', 'float64']\n",
    "ability_cols = df.select_dtypes(include=numerics).columns.tolist()[11:]"
   ]
  },
  {
   "cell_type": "code",
   "execution_count": 17,
   "metadata": {},
   "outputs": [
    {
     "name": "stderr",
     "output_type": "stream",
     "text": [
      "D:\\Python\\Anaconda\\lib\\site-packages\\pandas\\core\\common.py:228: VisibleDeprecationWarning: Creating an ndarray from ragged nested sequences (which is a list-or-tuple of lists-or-tuples-or ndarrays with different lengths or shapes) is deprecated. If you meant to do this, you must specify 'dtype=object' when creating the ndarray.\n",
      "  result = np.asarray(values, dtype=dtype)\n"
     ]
    }
   ],
   "source": [
    "df['Colors_features'], df['Features cost'] = zip(*df['Feature'].map(get_description_cost))\n",
    "df['Colors_dist'], df['Color cost'] = zip(*df['Cost'].map(get_color_cost))\n",
    "df['Foil'] = df['Foil'].apply(lambda x: 1 if x == 'Фойл' else 0)\n",
    "df['Total abilities qty'] = df[ability_cols].sum(axis = 1)"
   ]
  },
  {
   "cell_type": "code",
   "execution_count": 18,
   "metadata": {},
   "outputs": [
    {
     "data": {
      "application/vnd.jupyter.widget-view+json": {
       "model_id": "f9b6543031624833956938da014df6d6",
       "version_major": 2,
       "version_minor": 0
      },
      "text/plain": [
       "HBox(children=(HTML(value=''), FloatProgress(value=0.0, max=240.0), HTML(value='')))"
      ]
     },
     "metadata": {},
     "output_type": "display_data"
    },
    {
     "name": "stdout",
     "output_type": "stream",
     "text": [
      "\n"
     ]
    }
   ],
   "source": [
    "ab_cols = ab_word_cols = action_word_cols = []\n",
    "for col in tqdm(ability_cols):\n",
    "    if 'Ability_word_' in col:\n",
    "        ab_word_cols.append(col)\n",
    "    elif 'Ability_'  in col :\n",
    "        ab_cols.append(col)  \n",
    "    elif 'Action_'  in col :\n",
    "        action_word_cols.append(col) \n",
    "df['Abilities only qty'] = df[ab_cols].sum(axis = 1)\n",
    "df['Ability words only qty'] = df[ab_word_cols].sum(axis = 1)\n",
    "df['Action only qty'] = df[action_word_cols].sum(axis = 1)\n",
    "# df.drop(ab_cols + ab_word_cols + action_word_cols , axis = 1, inplace = True)"
   ]
  },
  {
   "cell_type": "code",
   "execution_count": 19,
   "metadata": {},
   "outputs": [],
   "source": [
    "# df[['Feature','Colors_features', 'Features cost']].head(10)"
   ]
  },
  {
   "cell_type": "code",
   "execution_count": 20,
   "metadata": {},
   "outputs": [],
   "source": [
    "# Удаление ненужных и редковстречающихся признаков\n",
    "cols = [ 'Name1', 'Name2', 'Special1', 'Special2', 'Name_y', 'Feature', 'Cost', 'Stats']\n",
    "for col in ability_cols:\n",
    "    if df[col].sum() < 500:\n",
    "        cols.append(col)\n",
    "df.drop(cols , axis = 1, inplace = True)"
   ]
  },
  {
   "cell_type": "code",
   "execution_count": 21,
   "metadata": {},
   "outputs": [],
   "source": [
    "df.rename(columns={'Name_x':'Name'}, inplace = True)\n",
    "quality_dict = {'NM':4, 'SP':3, 'MP':2, 'HP':1}\n",
    "df['Quality'] = df['Quality'].map(quality_dict)"
   ]
  },
  {
   "cell_type": "code",
   "execution_count": 22,
   "metadata": {},
   "outputs": [
    {
     "data": {
      "text/html": [
       "<div>\n",
       "<style scoped>\n",
       "    .dataframe tbody tr th:only-of-type {\n",
       "        vertical-align: middle;\n",
       "    }\n",
       "\n",
       "    .dataframe tbody tr th {\n",
       "        vertical-align: top;\n",
       "    }\n",
       "\n",
       "    .dataframe thead th {\n",
       "        text-align: right;\n",
       "    }\n",
       "</style>\n",
       "<table border=\"1\" class=\"dataframe\">\n",
       "  <thead>\n",
       "    <tr style=\"text-align: right;\">\n",
       "      <th></th>\n",
       "      <th>Language</th>\n",
       "      <th>Set</th>\n",
       "      <th>Foil</th>\n",
       "      <th>Quality</th>\n",
       "      <th>Rarity</th>\n",
       "      <th>Price</th>\n",
       "      <th>Qty</th>\n",
       "      <th>Name</th>\n",
       "      <th>Type</th>\n",
       "      <th>Illustrator</th>\n",
       "      <th>...</th>\n",
       "      <th>Month</th>\n",
       "      <th>Year</th>\n",
       "      <th>Colors_features</th>\n",
       "      <th>Features cost</th>\n",
       "      <th>Colors_dist</th>\n",
       "      <th>Color cost</th>\n",
       "      <th>Total abilities qty</th>\n",
       "      <th>Abilities only qty</th>\n",
       "      <th>Ability words only qty</th>\n",
       "      <th>Action only qty</th>\n",
       "    </tr>\n",
       "  </thead>\n",
       "  <tbody>\n",
       "    <tr>\n",
       "      <th>0</th>\n",
       "      <td>Английский</td>\n",
       "      <td>Ixalan</td>\n",
       "      <td>0</td>\n",
       "      <td>4</td>\n",
       "      <td>Мифическая</td>\n",
       "      <td>190</td>\n",
       "      <td>5</td>\n",
       "      <td>Admiral Beckett Brass</td>\n",
       "      <td>Legendary Creature — Human Pirate</td>\n",
       "      <td>Jason Rainville</td>\n",
       "      <td>...</td>\n",
       "      <td>9</td>\n",
       "      <td>2017</td>\n",
       "      <td></td>\n",
       "      <td>0</td>\n",
       "      <td>UBR</td>\n",
       "      <td>4</td>\n",
       "      <td>2226.0</td>\n",
       "      <td>1</td>\n",
       "      <td>1</td>\n",
       "      <td>1</td>\n",
       "    </tr>\n",
       "    <tr>\n",
       "      <th>1</th>\n",
       "      <td>Английский</td>\n",
       "      <td>Ixalan</td>\n",
       "      <td>0</td>\n",
       "      <td>3</td>\n",
       "      <td>Мифическая</td>\n",
       "      <td>160</td>\n",
       "      <td>0</td>\n",
       "      <td>Admiral Beckett Brass</td>\n",
       "      <td>Legendary Creature — Human Pirate</td>\n",
       "      <td>Jason Rainville</td>\n",
       "      <td>...</td>\n",
       "      <td>9</td>\n",
       "      <td>2017</td>\n",
       "      <td></td>\n",
       "      <td>0</td>\n",
       "      <td>UBR</td>\n",
       "      <td>4</td>\n",
       "      <td>2226.0</td>\n",
       "      <td>1</td>\n",
       "      <td>1</td>\n",
       "      <td>1</td>\n",
       "    </tr>\n",
       "    <tr>\n",
       "      <th>2</th>\n",
       "      <td>Английский</td>\n",
       "      <td>Ixalan</td>\n",
       "      <td>1</td>\n",
       "      <td>4</td>\n",
       "      <td>Мифическая</td>\n",
       "      <td>1360</td>\n",
       "      <td>0</td>\n",
       "      <td>Admiral Beckett Brass</td>\n",
       "      <td>Legendary Creature — Human Pirate</td>\n",
       "      <td>Jason Rainville</td>\n",
       "      <td>...</td>\n",
       "      <td>9</td>\n",
       "      <td>2017</td>\n",
       "      <td></td>\n",
       "      <td>0</td>\n",
       "      <td>UBR</td>\n",
       "      <td>4</td>\n",
       "      <td>2226.0</td>\n",
       "      <td>1</td>\n",
       "      <td>1</td>\n",
       "      <td>1</td>\n",
       "    </tr>\n",
       "    <tr>\n",
       "      <th>3</th>\n",
       "      <td>Английский</td>\n",
       "      <td>Ixalan</td>\n",
       "      <td>1</td>\n",
       "      <td>2</td>\n",
       "      <td>Мифическая</td>\n",
       "      <td>1100</td>\n",
       "      <td>1</td>\n",
       "      <td>Admiral Beckett Brass</td>\n",
       "      <td>Legendary Creature — Human Pirate</td>\n",
       "      <td>Jason Rainville</td>\n",
       "      <td>...</td>\n",
       "      <td>9</td>\n",
       "      <td>2017</td>\n",
       "      <td></td>\n",
       "      <td>0</td>\n",
       "      <td>UBR</td>\n",
       "      <td>4</td>\n",
       "      <td>2226.0</td>\n",
       "      <td>1</td>\n",
       "      <td>1</td>\n",
       "      <td>1</td>\n",
       "    </tr>\n",
       "    <tr>\n",
       "      <th>4</th>\n",
       "      <td>Английский</td>\n",
       "      <td>Ixalan</td>\n",
       "      <td>0</td>\n",
       "      <td>4</td>\n",
       "      <td>Мифическая</td>\n",
       "      <td>180</td>\n",
       "      <td>5</td>\n",
       "      <td>Admiral Beckett Brass</td>\n",
       "      <td>Legendary Creature — Human Pirate</td>\n",
       "      <td>Jason Rainville</td>\n",
       "      <td>...</td>\n",
       "      <td>9</td>\n",
       "      <td>2017</td>\n",
       "      <td></td>\n",
       "      <td>0</td>\n",
       "      <td>UBR</td>\n",
       "      <td>4</td>\n",
       "      <td>2226.0</td>\n",
       "      <td>1</td>\n",
       "      <td>1</td>\n",
       "      <td>1</td>\n",
       "    </tr>\n",
       "  </tbody>\n",
       "</table>\n",
       "<p>5 rows × 80 columns</p>\n",
       "</div>"
      ],
      "text/plain": [
       "     Language     Set  Foil  Quality      Rarity  Price  Qty  \\\n",
       "0  Английский  Ixalan     0        4  Мифическая    190    5   \n",
       "1  Английский  Ixalan     0        3  Мифическая    160    0   \n",
       "2  Английский  Ixalan     1        4  Мифическая   1360    0   \n",
       "3  Английский  Ixalan     1        2  Мифическая   1100    1   \n",
       "4  Английский  Ixalan     0        4  Мифическая    180    5   \n",
       "\n",
       "                    Name                               Type      Illustrator  \\\n",
       "0  Admiral Beckett Brass  Legendary Creature — Human Pirate  Jason Rainville   \n",
       "1  Admiral Beckett Brass  Legendary Creature — Human Pirate  Jason Rainville   \n",
       "2  Admiral Beckett Brass  Legendary Creature — Human Pirate  Jason Rainville   \n",
       "3  Admiral Beckett Brass  Legendary Creature — Human Pirate  Jason Rainville   \n",
       "4  Admiral Beckett Brass  Legendary Creature — Human Pirate  Jason Rainville   \n",
       "\n",
       "   ... Month  Year Colors_features Features cost Colors_dist Color cost  \\\n",
       "0  ...     9  2017                             0         UBR          4   \n",
       "1  ...     9  2017                             0         UBR          4   \n",
       "2  ...     9  2017                             0         UBR          4   \n",
       "3  ...     9  2017                             0         UBR          4   \n",
       "4  ...     9  2017                             0         UBR          4   \n",
       "\n",
       "  Total abilities qty Abilities only qty Ability words only qty  \\\n",
       "0              2226.0                  1                      1   \n",
       "1              2226.0                  1                      1   \n",
       "2              2226.0                  1                      1   \n",
       "3              2226.0                  1                      1   \n",
       "4              2226.0                  1                      1   \n",
       "\n",
       "  Action only qty  \n",
       "0               1  \n",
       "1               1  \n",
       "2               1  \n",
       "3               1  \n",
       "4               1  \n",
       "\n",
       "[5 rows x 80 columns]"
      ]
     },
     "execution_count": 22,
     "metadata": {},
     "output_type": "execute_result"
    }
   ],
   "source": [
    "df.head()"
   ]
  },
  {
   "cell_type": "code",
   "execution_count": 23,
   "metadata": {},
   "outputs": [],
   "source": [
    "df.to_csv(path + '/merged_df.csv', index = False)"
   ]
  },
  {
   "cell_type": "code",
   "execution_count": null,
   "metadata": {},
   "outputs": [],
   "source": []
  }
 ],
 "metadata": {
  "kernelspec": {
   "display_name": "Python 3",
   "language": "python",
   "name": "python3"
  },
  "language_info": {
   "codemirror_mode": {
    "name": "ipython",
    "version": 3
   },
   "file_extension": ".py",
   "mimetype": "text/x-python",
   "name": "python",
   "nbconvert_exporter": "python",
   "pygments_lexer": "ipython3",
   "version": "3.8.5"
  }
 },
 "nbformat": 4,
 "nbformat_minor": 4
}
