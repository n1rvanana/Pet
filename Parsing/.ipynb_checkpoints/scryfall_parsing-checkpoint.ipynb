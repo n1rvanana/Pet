{
 "cells": [
  {
   "cell_type": "code",
   "execution_count": 87,
   "metadata": {},
   "outputs": [],
   "source": [
    "import requests \n",
    "from requests.adapters import HTTPAdapter\n",
    "from requests.packages.urllib3.util.retry import Retry\n",
    "import numpy as np   \n",
    "import pandas as pd       \n",
    "from fake_useragent import UserAgent\n",
    "from bs4 import BeautifulSoup\n",
    "import re\n",
    "from tqdm import tqdm"
   ]
  },
  {
   "cell_type": "code",
   "execution_count": 94,
   "metadata": {},
   "outputs": [
    {
     "data": {
      "text/plain": [
       "['https://scryfall.com/sets/gn3',\n",
       " 'https://scryfall.com/sets/unf',\n",
       " 'https://scryfall.com/sets/40k']"
      ]
     },
     "execution_count": 94,
     "metadata": {},
     "output_type": "execute_result"
    }
   ],
   "source": [
    "# Получаем ссылки на все сеты\n",
    "sets_page = []\n",
    "for single_set in obj:\n",
    "        set_page = single_set.find('a').get('href')\n",
    "        if 'http' not in set_page:\n",
    "            set_page = 'https://scryfall.com' + set_page\n",
    "        sets_page.append(set_page)\n",
    "sets_page[:3]"
   ]
  },
  {
   "cell_type": "code",
   "execution_count": 95,
   "metadata": {},
   "outputs": [],
   "source": [
    "# Формируем параметры подключения с повторным подключением\n",
    "session = requests.Session()\n",
    "retry = Retry(connect=5, backoff_factor=1.5)\n",
    "adapter = HTTPAdapter(max_retries=retry)\n",
    "session.mount('http://', adapter)\n",
    "session.mount('https://', adapter)"
   ]
  },
  {
   "cell_type": "code",
   "execution_count": 112,
   "metadata": {},
   "outputs": [],
   "source": [
    "def getPageLinks(sets_page: list) -> list:\n",
    "    '''\n",
    "    Получает ссылки на страницы карт из ссылок на сеты\n",
    "    '''\n",
    "#     # составляем ссылку на страницу поиска\n",
    "#     sets_page = []\n",
    "    cards_page = []\n",
    "#     response = requests.get(page_link, headers={'User-Agent': UserAgent().chrome})\n",
    "#     html = response.content\n",
    "#     soup = BeautifulSoup(html, 'html.parser')\n",
    "#     obj = soup.find_all('td', attrs = {'class':'flexbox'})\n",
    "#     for single_set in obj:\n",
    "#         set_page = single_set.find('a').get('href')\n",
    "#         if 'http' not in set_page:\n",
    "#             set_page = 'https://scryfall.com'+set_page\n",
    "#         sets_page.append(set_page)\n",
    "        \n",
    "#     sets_page = sets_page[:2]\n",
    "    \n",
    "    for set_page in sets_page:\n",
    "        response = session.get(set_page, headers={'User-Agent': UserAgent().chrome})\n",
    "        html = response.content\n",
    "        soup = BeautifulSoup(html,'html.parser')\n",
    "        cards = soup.findAll(lambda tag: tag.get('class') == ['card-grid-item-card'])\n",
    "        for link in cards:\n",
    "            cards_page.append(link.attrs['href'])\n",
    "    \n",
    "    if not response.ok:\n",
    "        # если сервер нам отказал, вернем пустой лист для текущей страницы\n",
    "        return [] \n",
    "    \n",
    "    return cards_page"
   ]
  },
  {
   "cell_type": "code",
   "execution_count": 113,
   "metadata": {},
   "outputs": [
    {
     "data": {
      "text/plain": [
       "['https://scryfall.com/card/gn3/1/zamriel-seraph-of-steel',\n",
       " 'https://scryfall.com/card/gn3/2/maeve-insidious-singer',\n",
       " 'https://scryfall.com/card/gn3/3/vogar-necropolis-tyrant',\n",
       " 'https://scryfall.com/card/gn3/4/nogi-draco-zealot',\n",
       " 'https://scryfall.com/card/gn3/6/imaryll-elfhame-elite']"
      ]
     },
     "execution_count": 113,
     "metadata": {},
     "output_type": "execute_result"
    }
   ],
   "source": [
    "mtg_links = getPageLinks(sets_page[:1])\n",
    "mtg_links"
   ]
  },
  {
   "cell_type": "code",
   "execution_count": 110,
   "metadata": {},
   "outputs": [],
   "source": [
    "# Нужные данные со страницы\n",
    "stats = [['span', 'card-text-card-name'], ['span', 'card-text-mana-cost'], ['p', 'card-text-type-line'], \n",
    "         ['div', 'card-text-oracle'], ['div', 'card-text-stats'], ['p','card-text-artist'], ['div','card-legality-item']]"
   ]
  },
  {
   "cell_type": "code",
   "execution_count": 116,
   "metadata": {},
   "outputs": [],
   "source": [
    "def getStats(soup: BeautifulSoup, stats1: str, stats2: str) -> list:\n",
    "    \"\"\"\n",
    "        Возвращает строку очищенных данных\n",
    "    \"\"\"\n",
    "    try:\n",
    "        if stats2 != 'card-legality-item':\n",
    "            obj = soup.find(stats1, attrs={'class':stats2}).get_text()\n",
    "            obj = obj.strip()\n",
    "        else:\n",
    "            obj = soup.find_all(stats1, attrs={'class':stats2})\n",
    "            obj = [x.get_text().strip().split('\\n')[1] for x in obj]\n",
    "    except:\n",
    "        obj=None\n",
    "    return obj"
   ]
  },
  {
   "cell_type": "code",
   "execution_count": 117,
   "metadata": {},
   "outputs": [],
   "source": [
    "def getProperties(link):\n",
    "    \"\"\"\n",
    "        Возвращает список с описанием\n",
    "    \"\"\"\n",
    "    result = []\n",
    "    response = session.get(link, headers={'User-Agent': UserAgent().chrome})\n",
    "    html = response.content\n",
    "    soup = BeautifulSoup(html,'html.parser')\n",
    "    for stat in stats:\n",
    "        result.append(getStats(soup, stat[0], stat[1]))\n",
    "    for legality in result[6]:\n",
    "        result.append(legality)\n",
    "    del result[6]\n",
    "    return result"
   ]
  },
  {
   "cell_type": "code",
   "execution_count": 118,
   "metadata": {},
   "outputs": [
    {
     "data": {
      "text/plain": [
       "['Runesword',\n",
       " '{6}',\n",
       " 'Artifact',\n",
       " '{3}, {T}: Target attacking creature gets +2/+0 until end of turn. When that creature leaves the battlefield this turn, sacrifice Runesword. If the creature deals damage to a creature this turn, the creature dealt damage can’t be regenerated this turn. If a creature dealt damage by the targeted creature would die this turn, exile that creature instead.',\n",
       " None,\n",
       " 'Illustrated by\\n            Christopher Rush',\n",
       " 'Not Legal',\n",
       " 'Not Legal',\n",
       " 'Not Legal',\n",
       " 'Not Legal',\n",
       " 'Not Legal',\n",
       " 'Not Legal',\n",
       " 'Legal',\n",
       " 'Not Legal',\n",
       " 'Legal',\n",
       " 'Legal',\n",
       " 'Legal',\n",
       " 'Not Legal']"
      ]
     },
     "execution_count": 118,
     "metadata": {},
     "output_type": "execute_result"
    }
   ],
   "source": [
    "rows = getProperties('https://scryfall.com/card/chr/106/runesword')\n",
    "rows"
   ]
  },
  {
   "cell_type": "code",
   "execution_count": 187,
   "metadata": {
    "tags": []
   },
   "outputs": [
    {
     "name": "stderr",
     "output_type": "stream",
     "text": [
      "Pages: 100%|█████████████████████████████████████████████████████████████████████████████| 5/5 [00:01<00:00,  4.49it/s]\n"
     ]
    },
    {
     "data": {
      "text/html": [
       "<div>\n",
       "<style scoped>\n",
       "    .dataframe tbody tr th:only-of-type {\n",
       "        vertical-align: middle;\n",
       "    }\n",
       "\n",
       "    .dataframe tbody tr th {\n",
       "        vertical-align: top;\n",
       "    }\n",
       "\n",
       "    .dataframe thead th {\n",
       "        text-align: right;\n",
       "    }\n",
       "</style>\n",
       "<table border=\"1\" class=\"dataframe\">\n",
       "  <thead>\n",
       "    <tr style=\"text-align: right;\">\n",
       "      <th></th>\n",
       "      <th>Name</th>\n",
       "      <th>Cost</th>\n",
       "      <th>Type</th>\n",
       "      <th>Feature</th>\n",
       "      <th>Stats</th>\n",
       "      <th>Illustrator</th>\n",
       "      <th>Standard</th>\n",
       "      <th>Alchemy</th>\n",
       "      <th>Pioneer</th>\n",
       "      <th>Explorer</th>\n",
       "      <th>Modern</th>\n",
       "      <th>Brawl</th>\n",
       "      <th>Legacy</th>\n",
       "      <th>Historic</th>\n",
       "      <th>Vintage</th>\n",
       "      <th>Pauper</th>\n",
       "      <th>Commander</th>\n",
       "      <th>Penny</th>\n",
       "    </tr>\n",
       "  </thead>\n",
       "  <tbody>\n",
       "    <tr>\n",
       "      <th>0</th>\n",
       "      <td>Zamriel, Seraph of Steel</td>\n",
       "      <td>{2}{W}{W}</td>\n",
       "      <td>Legendary Creature — Angel</td>\n",
       "      <td>Flying\\nAs long as it’s your turn, equipped cr...</td>\n",
       "      <td>3/4</td>\n",
       "      <td>Illustrated by\\n            Chris Rallis</td>\n",
       "      <td>Not Legal</td>\n",
       "      <td>Not Legal</td>\n",
       "      <td>Not Legal</td>\n",
       "      <td>Not Legal</td>\n",
       "      <td>Not Legal</td>\n",
       "      <td>Not Legal</td>\n",
       "      <td>Legal</td>\n",
       "      <td>Not Legal</td>\n",
       "      <td>Legal</td>\n",
       "      <td>Not Legal</td>\n",
       "      <td>Legal</td>\n",
       "      <td>Not Legal</td>\n",
       "    </tr>\n",
       "    <tr>\n",
       "      <th>1</th>\n",
       "      <td>Maeve, Insidious Singer</td>\n",
       "      <td>{2}{U}{U}</td>\n",
       "      <td>Legendary Creature — Siren</td>\n",
       "      <td>{2}{U}: Goad target creature. Whenever that cr...</td>\n",
       "      <td>3/4</td>\n",
       "      <td>Illustrated by\\n            Jason Rainville</td>\n",
       "      <td>Not Legal</td>\n",
       "      <td>Not Legal</td>\n",
       "      <td>Not Legal</td>\n",
       "      <td>Not Legal</td>\n",
       "      <td>Not Legal</td>\n",
       "      <td>Not Legal</td>\n",
       "      <td>Legal</td>\n",
       "      <td>Not Legal</td>\n",
       "      <td>Legal</td>\n",
       "      <td>Not Legal</td>\n",
       "      <td>Legal</td>\n",
       "      <td>Not Legal</td>\n",
       "    </tr>\n",
       "    <tr>\n",
       "      <th>2</th>\n",
       "      <td>Vogar, Necropolis Tyrant</td>\n",
       "      <td>{3}{B}{B}</td>\n",
       "      <td>Legendary Creature — Zombie Giant</td>\n",
       "      <td>Menace\\nWhenever another creature dies during ...</td>\n",
       "      <td>4/4</td>\n",
       "      <td>Illustrated by\\n            Jason A. Engle</td>\n",
       "      <td>Not Legal</td>\n",
       "      <td>Not Legal</td>\n",
       "      <td>Not Legal</td>\n",
       "      <td>Not Legal</td>\n",
       "      <td>Not Legal</td>\n",
       "      <td>Not Legal</td>\n",
       "      <td>Legal</td>\n",
       "      <td>Not Legal</td>\n",
       "      <td>Legal</td>\n",
       "      <td>Not Legal</td>\n",
       "      <td>Legal</td>\n",
       "      <td>Not Legal</td>\n",
       "    </tr>\n",
       "    <tr>\n",
       "      <th>3</th>\n",
       "      <td>Nogi, Draco-Zealot</td>\n",
       "      <td>{1}{R}{R}</td>\n",
       "      <td>Legendary Creature — Kobold Shaman</td>\n",
       "      <td>Dragon spells you cast cost {1} less to cast.\\...</td>\n",
       "      <td>3/3</td>\n",
       "      <td>Illustrated by\\n            Dmitry Burmak</td>\n",
       "      <td>Not Legal</td>\n",
       "      <td>Not Legal</td>\n",
       "      <td>Not Legal</td>\n",
       "      <td>Not Legal</td>\n",
       "      <td>Not Legal</td>\n",
       "      <td>Not Legal</td>\n",
       "      <td>Legal</td>\n",
       "      <td>Not Legal</td>\n",
       "      <td>Legal</td>\n",
       "      <td>Not Legal</td>\n",
       "      <td>Legal</td>\n",
       "      <td>Not Legal</td>\n",
       "    </tr>\n",
       "    <tr>\n",
       "      <th>4</th>\n",
       "      <td>Imaryll, Elfhame Elite</td>\n",
       "      <td>{2}{G}{G}</td>\n",
       "      <td>Legendary Creature — Elf Warrior</td>\n",
       "      <td>Whenever Imaryll, Elfhame Elite attacks, it ge...</td>\n",
       "      <td>3/3</td>\n",
       "      <td>Illustrated by\\n            Ryan Pancoast</td>\n",
       "      <td>Not Legal</td>\n",
       "      <td>Not Legal</td>\n",
       "      <td>Not Legal</td>\n",
       "      <td>Not Legal</td>\n",
       "      <td>Not Legal</td>\n",
       "      <td>Not Legal</td>\n",
       "      <td>Legal</td>\n",
       "      <td>Not Legal</td>\n",
       "      <td>Legal</td>\n",
       "      <td>Not Legal</td>\n",
       "      <td>Legal</td>\n",
       "      <td>Not Legal</td>\n",
       "    </tr>\n",
       "  </tbody>\n",
       "</table>\n",
       "</div>"
      ],
      "text/plain": [
       "                       Name       Cost                                Type  \\\n",
       "0  Zamriel, Seraph of Steel  {2}{W}{W}          Legendary Creature — Angel   \n",
       "1   Maeve, Insidious Singer  {2}{U}{U}          Legendary Creature — Siren   \n",
       "2  Vogar, Necropolis Tyrant  {3}{B}{B}   Legendary Creature — Zombie Giant   \n",
       "3        Nogi, Draco-Zealot  {1}{R}{R}  Legendary Creature — Kobold Shaman   \n",
       "4    Imaryll, Elfhame Elite  {2}{G}{G}    Legendary Creature — Elf Warrior   \n",
       "\n",
       "                                             Feature Stats  \\\n",
       "0  Flying\\nAs long as it’s your turn, equipped cr...   3/4   \n",
       "1  {2}{U}: Goad target creature. Whenever that cr...   3/4   \n",
       "2  Menace\\nWhenever another creature dies during ...   4/4   \n",
       "3  Dragon spells you cast cost {1} less to cast.\\...   3/3   \n",
       "4  Whenever Imaryll, Elfhame Elite attacks, it ge...   3/3   \n",
       "\n",
       "                                   Illustrator   Standard    Alchemy  \\\n",
       "0     Illustrated by\\n            Chris Rallis  Not Legal  Not Legal   \n",
       "1  Illustrated by\\n            Jason Rainville  Not Legal  Not Legal   \n",
       "2   Illustrated by\\n            Jason A. Engle  Not Legal  Not Legal   \n",
       "3    Illustrated by\\n            Dmitry Burmak  Not Legal  Not Legal   \n",
       "4    Illustrated by\\n            Ryan Pancoast  Not Legal  Not Legal   \n",
       "\n",
       "     Pioneer   Explorer     Modern      Brawl Legacy   Historic Vintage  \\\n",
       "0  Not Legal  Not Legal  Not Legal  Not Legal  Legal  Not Legal   Legal   \n",
       "1  Not Legal  Not Legal  Not Legal  Not Legal  Legal  Not Legal   Legal   \n",
       "2  Not Legal  Not Legal  Not Legal  Not Legal  Legal  Not Legal   Legal   \n",
       "3  Not Legal  Not Legal  Not Legal  Not Legal  Legal  Not Legal   Legal   \n",
       "4  Not Legal  Not Legal  Not Legal  Not Legal  Legal  Not Legal   Legal   \n",
       "\n",
       "      Pauper Commander      Penny  \n",
       "0  Not Legal     Legal  Not Legal  \n",
       "1  Not Legal     Legal  Not Legal  \n",
       "2  Not Legal     Legal  Not Legal  \n",
       "3  Not Legal     Legal  Not Legal  \n",
       "4  Not Legal     Legal  Not Legal  "
      ]
     },
     "execution_count": 187,
     "metadata": {},
     "output_type": "execute_result"
    }
   ],
   "source": [
    "final_df = pd.DataFrame(columns=['Name', 'Cost', 'Type', 'Feature', 'Stats', 'Illustrator',\n",
    "                                'Standard', 'Alchemy', 'Pioneer', 'Explorer', 'Modern',\n",
    "                                'Brawl', 'Legacy', 'Historic', 'Vintage', 'Pauper', 'Commander',\n",
    "                                'Penny'])\n",
    "df_row = 0\n",
    "# session = requests.Session()\n",
    "# retry = Retry(connect=3, backoff_factor=0.5)\n",
    "# adapter = HTTPAdapter(max_retries=retry)\n",
    "# session.mount('http://', adapter)\n",
    "# session.mount('https://', adapter)\n",
    "\n",
    "\n",
    "for page in tqdm(mtg_links, desc='Pages'):\n",
    "    parsed_row = getProperties(page)\n",
    "    final_df.loc[df_row] = parsed_row\n",
    "    df_row += 1"
   ]
  },
  {
   "cell_type": "code",
   "execution_count": 188,
   "metadata": {},
   "outputs": [
    {
     "name": "stderr",
     "output_type": "stream",
     "text": [
      "C:\\Users\\iavoytenok\\AppData\\Local\\Temp\\ipykernel_14272\\3001571031.py:1: FutureWarning: The frame.append method is deprecated and will be removed from pandas in a future version. Use pandas.concat instead.\n",
      "  final_df = final_df.append([''])\n"
     ]
    }
   ],
   "source": [
    "final_df = final_df.append([''])"
   ]
  },
  {
   "cell_type": "code",
   "execution_count": 190,
   "metadata": {},
   "outputs": [],
   "source": [
    "def power_strength_split(row: str) -> [str, str]:\n",
    "    '''\n",
    "    Разделение базовых характеристик на силу и выносливость\n",
    "    '''\n",
    "    try:\n",
    "        power, strength = row.split('/')\n",
    "    except Exception:\n",
    "        strength = None\n",
    "        power = None\n",
    "    return [power, strength]"
   ]
  },
  {
   "cell_type": "code",
   "execution_count": 191,
   "metadata": {},
   "outputs": [],
   "source": [
    " final_df['Power'], final_df['Strength'] = zip(*final_df['Stats'].map(power_strength_split))"
   ]
  },
  {
   "cell_type": "code",
   "execution_count": 201,
   "metadata": {},
   "outputs": [],
   "source": [
    "def get_cost(price: str) -> int:\n",
    "    '''\n",
    "    Конвертируем цифры и символы в цену\n",
    "    '''\n",
    "    try:\n",
    "        cost = 0\n",
    "        price = re.sub('\\W', '', price)\n",
    "        for i in price:\n",
    "            if i.isnumeric():\n",
    "                cost += int(i)\n",
    "            else:\n",
    "                cost += 1\n",
    "    except Exception:\n",
    "        cost = 0\n",
    "    return cost"
   ]
  },
  {
   "cell_type": "code",
   "execution_count": 222,
   "metadata": {},
   "outputs": [],
   "source": [
    "final_df['Main feature'] = final_df['Feature'].fillna('').apply(lambda x: x.split('\\n')[0] if '\\n' in x else '')"
   ]
  },
  {
   "cell_type": "code",
   "execution_count": 223,
   "metadata": {},
   "outputs": [],
   "source": [
    "final_df['Cost_qty'] = final_df['Cost'].map(get_cost)"
   ]
  },
  {
   "cell_type": "code",
   "execution_count": 224,
   "metadata": {},
   "outputs": [],
   "source": [
    "final_df['Illustrator'] = final_df['Illustrator'].fillna('').apply(lambda x: x.split('\\n')[-1].strip())"
   ]
  },
  {
   "cell_type": "code",
   "execution_count": 226,
   "metadata": {},
   "outputs": [],
   "source": [
    "final_df['Legendary'] = final_df['Type'].fillna('').apply(lambda x: 1 if 'Legendary' in x else 0)"
   ]
  },
  {
   "cell_type": "code",
   "execution_count": 231,
   "metadata": {},
   "outputs": [],
   "source": [
    "def get_main_type(card_type:str) -> str:\n",
    "    '''\n",
    "    Деление карт на базовые классы (существо, заклинание, земля, проч)\n",
    "    '''\n",
    "    card_type = card_type.replace('Legendary ', '').split(' — ')[0]\n",
    "    return card_type"
   ]
  },
  {
   "cell_type": "code",
   "execution_count": 233,
   "metadata": {},
   "outputs": [],
   "source": [
    "final_df['Main type'] = final_df['Type'].fillna('').apply(lambda x: get_main_type(x))"
   ]
  },
  {
   "cell_type": "code",
   "execution_count": 31,
   "metadata": {},
   "outputs": [],
   "source": [
    "final_df.to_parquet('parsed_scryfall.parquet') "
   ]
  },
  {
   "cell_type": "code",
   "execution_count": null,
   "metadata": {},
   "outputs": [],
   "source": []
  }
 ],
 "metadata": {
  "kernelspec": {
   "display_name": "Python 3 (ipykernel)",
   "language": "python",
   "name": "python3"
  },
  "language_info": {
   "codemirror_mode": {
    "name": "ipython",
    "version": 3
   },
   "file_extension": ".py",
   "mimetype": "text/x-python",
   "name": "python",
   "nbconvert_exporter": "python",
   "pygments_lexer": "ipython3",
   "version": "3.9.12"
  }
 },
 "nbformat": 4,
 "nbformat_minor": 4
}
