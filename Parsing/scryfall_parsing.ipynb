{
 "cells": [
  {
   "cell_type": "code",
   "execution_count": 1,
   "metadata": {},
   "outputs": [],
   "source": [
    "import requests \n",
    "from requests.adapters import HTTPAdapter\n",
    "from requests.packages.urllib3.util.retry import Retry\n",
    "import numpy as np   \n",
    "import pandas as pd       \n",
    "from fake_useragent import UserAgent\n",
    "from bs4 import BeautifulSoup\n",
    "import re\n",
    "from tqdm import tqdm"
   ]
  },
  {
   "cell_type": "code",
   "execution_count": 2,
   "metadata": {},
   "outputs": [],
   "source": [
    "page_link ='https://scryfall.com/sets'\n",
    "response = requests.get(page_link, headers={'User-Agent': UserAgent().chrome})\n",
    "html = response.content\n",
    "soup = BeautifulSoup(html, 'html.parser')\n",
    "obj = soup.find_all('td', attrs = {'class':'flexbox'})"
   ]
  },
  {
   "cell_type": "code",
   "execution_count": 3,
   "metadata": {},
   "outputs": [
    {
     "data": {
      "text/plain": [
       "['https://scryfall.com/sets/gn3',\n",
       " 'https://scryfall.com/sets/unf',\n",
       " 'https://scryfall.com/sets/40k']"
      ]
     },
     "execution_count": 3,
     "metadata": {},
     "output_type": "execute_result"
    }
   ],
   "source": [
    "# Получаем ссылки на все сеты\n",
    "sets_page = []\n",
    "for single_set in obj:\n",
    "        set_page = single_set.find('a').get('href')\n",
    "        if 'http' not in set_page:\n",
    "            set_page = 'https://scryfall.com' + set_page\n",
    "        sets_page.append(set_page)\n",
    "sets_page[:3]"
   ]
  },
  {
   "cell_type": "code",
   "execution_count": 4,
   "metadata": {},
   "outputs": [],
   "source": [
    "# Формируем параметры подключения с повторным подключением\n",
    "session = requests.Session()\n",
    "retry = Retry(connect=5, backoff_factor=1.5)\n",
    "adapter = HTTPAdapter(max_retries=retry)\n",
    "session.mount('http://', adapter)\n",
    "session.mount('https://', adapter)"
   ]
  },
  {
   "cell_type": "code",
   "execution_count": 5,
   "metadata": {},
   "outputs": [],
   "source": [
    "def getPageLinks(sets_page: list) -> list:\n",
    "    '''\n",
    "    Получает ссылки на страницы карт из ссылок на сеты\n",
    "    '''\n",
    "#     # составляем ссылку на страницу поиска\n",
    "#     sets_page = []\n",
    "    cards_page = []\n",
    "#     response = requests.get(page_link, headers={'User-Agent': UserAgent().chrome})\n",
    "#     html = response.content\n",
    "#     soup = BeautifulSoup(html, 'html.parser')\n",
    "#     obj = soup.find_all('td', attrs = {'class':'flexbox'})\n",
    "#     for single_set in obj:\n",
    "#         set_page = single_set.find('a').get('href')\n",
    "#         if 'http' not in set_page:\n",
    "#             set_page = 'https://scryfall.com'+set_page\n",
    "#         sets_page.append(set_page)\n",
    "        \n",
    "#     sets_page = sets_page[:2]\n",
    "    \n",
    "    for set_page in tqdm(sets_page, desc = 'Sets'):\n",
    "        response = session.get(set_page, headers={'User-Agent': UserAgent().chrome})\n",
    "        html = response.content\n",
    "        soup = BeautifulSoup(html,'html.parser')\n",
    "        cards = soup.findAll(lambda tag: tag.get('class') == ['card-grid-item-card'])\n",
    "        for link in cards:\n",
    "            cards_page.append(link.attrs['href'])\n",
    "    \n",
    "    if not response.ok:\n",
    "        # если сервер нам отказал, вернем пустой лист для текущей страницы\n",
    "        return [] \n",
    "    \n",
    "    return cards_page"
   ]
  },
  {
   "cell_type": "code",
   "execution_count": 6,
   "metadata": {},
   "outputs": [
    {
     "name": "stderr",
     "output_type": "stream",
     "text": [
      "Sets: 100%|██████████████████████████████████████████████████████████████████████████| 761/761 [03:58<00:00,  3.19it/s]\n"
     ]
    }
   ],
   "source": [
    "mtg_links = getPageLinks(sets_page)"
   ]
  },
  {
   "cell_type": "code",
   "execution_count": 7,
   "metadata": {},
   "outputs": [],
   "source": [
    "# mtg_links.append('https://scryfall.com/card/rna/122/biogenic-ooze')"
   ]
  },
  {
   "cell_type": "code",
   "execution_count": 8,
   "metadata": {},
   "outputs": [],
   "source": [
    "# Нужные данные со страницы\n",
    "stats = [['span', 'card-text-card-name'], ['span', 'card-text-mana-cost'], ['p', 'card-text-type-line'], \n",
    "         ['div', 'card-text-oracle'], ['div', 'card-text-stats'], ['p','card-text-artist'], ['div','card-legality-item']]"
   ]
  },
  {
   "cell_type": "code",
   "execution_count": 9,
   "metadata": {},
   "outputs": [],
   "source": [
    "def getStats(soup: BeautifulSoup, stats1: str, stats2: str) -> list:\n",
    "    \"\"\"\n",
    "        Возвращает строку очищенных данных\n",
    "    \"\"\"\n",
    "    try:\n",
    "        if stats2 != 'card-legality-item':\n",
    "            obj = soup.find(stats1, attrs={'class':stats2}).get_text()\n",
    "            obj = obj.strip()\n",
    "        else:\n",
    "            obj = soup.find_all(stats1, attrs={'class':stats2})\n",
    "            obj = [x.get_text().strip().split('\\n')[1] for x in obj]\n",
    "    except:\n",
    "        obj=None\n",
    "    return obj"
   ]
  },
  {
   "cell_type": "code",
   "execution_count": 10,
   "metadata": {},
   "outputs": [],
   "source": [
    "def getProperties(link):\n",
    "    \"\"\"\n",
    "        Возвращает список с описанием\n",
    "    \"\"\"\n",
    "    result = []\n",
    "    response = session.get(link, headers={'User-Agent': UserAgent().chrome})\n",
    "    html = response.content\n",
    "    soup = BeautifulSoup(html,'html.parser')\n",
    "    for stat in stats:\n",
    "        result.append(getStats(soup, stat[0], stat[1]))\n",
    "    # Если в карте не написано про легальность, создадим пустой лист\n",
    "    if not len(result[6]) > 1:\n",
    "        result[6] = [[] for x in range(12)]\n",
    "    for legality in result[6]:\n",
    "        result.append(legality)\n",
    "    del result[6]\n",
    "    return result"
   ]
  },
  {
   "cell_type": "code",
   "execution_count": 11,
   "metadata": {},
   "outputs": [
    {
     "data": {
      "text/plain": [
       "['Vanguard Suppressor',\n",
       " None,\n",
       " 'Token Creature — Astartes Warrior',\n",
       " 'Flying\\nWhenever Vanguard Suppressor deals combat damage to a player, draw a card.',\n",
       " '3/2',\n",
       " 'Illustrated by\\n            Fajareka Setiawan',\n",
       " [],\n",
       " [],\n",
       " [],\n",
       " [],\n",
       " [],\n",
       " [],\n",
       " [],\n",
       " [],\n",
       " [],\n",
       " [],\n",
       " [],\n",
       " []]"
      ]
     },
     "execution_count": 11,
     "metadata": {},
     "output_type": "execute_result"
    }
   ],
   "source": [
    "rows = getProperties('https://scryfall.com/card/t40k/10/vanguard-suppressor')\n",
    "rows"
   ]
  },
  {
   "cell_type": "code",
   "execution_count": 12,
   "metadata": {
    "tags": []
   },
   "outputs": [
    {
     "name": "stderr",
     "output_type": "stream",
     "text": [
      "Pages: 100%|███████████████████████████████████████████████████████████████████| 76641/76641 [6:51:01<00:00,  3.11it/s]\n"
     ]
    }
   ],
   "source": [
    "final_df = pd.DataFrame(columns=['Name', 'Cost', 'Type', 'Feature', 'Stats', 'Illustrator',\n",
    "                                'Standard', 'Alchemy', 'Pioneer', 'Explorer', 'Modern',\n",
    "                                'Brawl', 'Legacy', 'Historic', 'Vintage', 'Pauper', 'Commander',\n",
    "                                'Penny'])\n",
    "df_row = 0\n",
    "# session = requests.Session()\n",
    "# retry = Retry(connect=3, backoff_factor=0.5)\n",
    "# adapter = HTTPAdapter(max_retries=retry)\n",
    "# session.mount('http://', adapter)\n",
    "# session.mount('https://', adapter)\n",
    "\n",
    "\n",
    "for page in tqdm(mtg_links, desc='Pages'):\n",
    "    parsed_row = getProperties(page)\n",
    "#     print(page)\n",
    "    final_df.loc[df_row] = parsed_row\n",
    "    df_row += 1"
   ]
  },
  {
   "cell_type": "code",
   "execution_count": 13,
   "metadata": {},
   "outputs": [],
   "source": [
    "def power_strength_split(row: str) -> [str, str]:\n",
    "    '''\n",
    "    Разделение базовых характеристик на силу и выносливость\n",
    "    '''\n",
    "    try:\n",
    "        power, strength = row.split('/')\n",
    "    except Exception:\n",
    "        strength = None\n",
    "        power = None\n",
    "    return [power, strength]"
   ]
  },
  {
   "cell_type": "code",
   "execution_count": 14,
   "metadata": {},
   "outputs": [],
   "source": [
    " final_df['Power'], final_df['Strength'] = zip(*final_df['Stats'].map(power_strength_split))"
   ]
  },
  {
   "cell_type": "code",
   "execution_count": 15,
   "metadata": {},
   "outputs": [],
   "source": [
    "def get_cost(price: str) -> int:\n",
    "    '''\n",
    "    Конвертируем цифры и символы в цену\n",
    "    '''\n",
    "    try:\n",
    "        cost = 0\n",
    "        price = re.sub('\\W', '', price)\n",
    "        for i in price:\n",
    "            if i.isnumeric():\n",
    "                cost += int(i)\n",
    "            else:\n",
    "                cost += 1\n",
    "    except Exception:\n",
    "        cost = 0\n",
    "    return cost"
   ]
  },
  {
   "cell_type": "code",
   "execution_count": 16,
   "metadata": {},
   "outputs": [],
   "source": [
    "final_df['Main feature'] = final_df['Feature'].fillna('').apply(lambda x: x.split('\\n')[0] if '\\n' in x else '')"
   ]
  },
  {
   "cell_type": "code",
   "execution_count": 17,
   "metadata": {},
   "outputs": [],
   "source": [
    "final_df['Cost_qty'] = final_df['Cost'].map(get_cost)"
   ]
  },
  {
   "cell_type": "code",
   "execution_count": 18,
   "metadata": {},
   "outputs": [],
   "source": [
    "final_df['Illustrator'] = final_df['Illustrator'].fillna('').apply(lambda x: x.split('\\n')[-1].strip())"
   ]
  },
  {
   "cell_type": "code",
   "execution_count": 19,
   "metadata": {},
   "outputs": [],
   "source": [
    "final_df['Legendary'] = final_df['Type'].fillna('').apply(lambda x: 1 if 'Legendary' in x else 0)"
   ]
  },
  {
   "cell_type": "code",
   "execution_count": 20,
   "metadata": {},
   "outputs": [],
   "source": [
    "def get_main_type(card_type:str) -> str:\n",
    "    '''\n",
    "    Деление карт на базовые классы (существо, заклинание, земля, проч)\n",
    "    '''\n",
    "    card_type = card_type.replace('Legendary ', '').split(' — ')[0]\n",
    "    return card_type"
   ]
  },
  {
   "cell_type": "code",
   "execution_count": 21,
   "metadata": {},
   "outputs": [],
   "source": [
    "final_df['Main type'] = final_df['Type'].fillna('').apply(lambda x: get_main_type(x))"
   ]
  },
  {
   "cell_type": "code",
   "execution_count": 22,
   "metadata": {},
   "outputs": [
    {
     "data": {
      "text/plain": [
       "'Vigilance\\nAssembled Ensemble’s power is equal to the number of Robots you control.\\nWhenever you cast a spell with an artifact creature in its art, create a 1/1 white Clown Robot artifact creature token.'"
      ]
     },
     "execution_count": 22,
     "metadata": {},
     "output_type": "execute_result"
    }
   ],
   "source": [
    "final_df.loc[5]['Feature']"
   ]
  },
  {
   "cell_type": "code",
   "execution_count": 24,
   "metadata": {},
   "outputs": [],
   "source": [
    "final_df.to_csv('parsed_scryfall.csv') "
   ]
  },
  {
   "cell_type": "code",
   "execution_count": null,
   "metadata": {},
   "outputs": [],
   "source": []
  }
 ],
 "metadata": {
  "kernelspec": {
   "display_name": "Python 3",
   "language": "python",
   "name": "python3"
  },
  "language_info": {
   "codemirror_mode": {
    "name": "ipython",
    "version": 3
   },
   "file_extension": ".py",
   "mimetype": "text/x-python",
   "name": "python",
   "nbconvert_exporter": "python",
   "pygments_lexer": "ipython3",
   "version": "3.8.5"
  }
 },
 "nbformat": 4,
 "nbformat_minor": 4
}
